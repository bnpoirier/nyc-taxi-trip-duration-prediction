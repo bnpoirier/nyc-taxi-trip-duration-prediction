{
  "cells": [
    {
      "metadata": {
        "_uuid": "9addf4c66540eb99f547b0208c0774446719c77b",
        "trusted": true
      },
      "cell_type": "code",
      "source": "import os\n\nimport matplotlib.pyplot as plt\nimport numpy as np\nimport pandas as pd\n\n%matplotlib inline",
      "execution_count": 117,
      "outputs": []
    },
    {
      "metadata": {
        "_uuid": "ebaad1c5ed816a6f89dd24d3423f3c8c27c48dcc"
      },
      "cell_type": "markdown",
      "source": "### Data loading\n"
    },
    {
      "metadata": {
        "_uuid": "c3add03055d49bb59a3f5e53624e543e9d62ed15",
        "scrolled": true,
        "trusted": true
      },
      "cell_type": "code",
      "source": "TRAIN_FILEPATH = os.path.join('..', 'input', 'train.csv')\nTEST_FILEPATH = os.path.join('..', 'input', 'test.csv')\n\ndf_train = pd.read_csv(TRAIN_FILEPATH, index_col=0)\ndf_test = pd.read_csv(TEST_FILEPATH, index_col=0)\n\ndf_train.head()",
      "execution_count": 118,
      "outputs": [
        {
          "output_type": "execute_result",
          "execution_count": 118,
          "data": {
            "text/plain": "           vendor_id      ...      trip_duration\nid                        ...                   \nid2875421          2      ...                455\nid2377394          1      ...                663\nid3858529          2      ...               2124\nid3504673          2      ...                429\nid2181028          2      ...                435\n\n[5 rows x 10 columns]",
            "text/html": "<div>\n<style scoped>\n    .dataframe tbody tr th:only-of-type {\n        vertical-align: middle;\n    }\n\n    .dataframe tbody tr th {\n        vertical-align: top;\n    }\n\n    .dataframe thead th {\n        text-align: right;\n    }\n</style>\n<table border=\"1\" class=\"dataframe\">\n  <thead>\n    <tr style=\"text-align: right;\">\n      <th></th>\n      <th>vendor_id</th>\n      <th>pickup_datetime</th>\n      <th>dropoff_datetime</th>\n      <th>passenger_count</th>\n      <th>pickup_longitude</th>\n      <th>pickup_latitude</th>\n      <th>dropoff_longitude</th>\n      <th>dropoff_latitude</th>\n      <th>store_and_fwd_flag</th>\n      <th>trip_duration</th>\n    </tr>\n    <tr>\n      <th>id</th>\n      <th></th>\n      <th></th>\n      <th></th>\n      <th></th>\n      <th></th>\n      <th></th>\n      <th></th>\n      <th></th>\n      <th></th>\n      <th></th>\n    </tr>\n  </thead>\n  <tbody>\n    <tr>\n      <th>id2875421</th>\n      <td>2</td>\n      <td>2016-03-14 17:24:55</td>\n      <td>2016-03-14 17:32:30</td>\n      <td>1</td>\n      <td>-73.982155</td>\n      <td>40.767937</td>\n      <td>-73.964630</td>\n      <td>40.765602</td>\n      <td>N</td>\n      <td>455</td>\n    </tr>\n    <tr>\n      <th>id2377394</th>\n      <td>1</td>\n      <td>2016-06-12 00:43:35</td>\n      <td>2016-06-12 00:54:38</td>\n      <td>1</td>\n      <td>-73.980415</td>\n      <td>40.738564</td>\n      <td>-73.999481</td>\n      <td>40.731152</td>\n      <td>N</td>\n      <td>663</td>\n    </tr>\n    <tr>\n      <th>id3858529</th>\n      <td>2</td>\n      <td>2016-01-19 11:35:24</td>\n      <td>2016-01-19 12:10:48</td>\n      <td>1</td>\n      <td>-73.979027</td>\n      <td>40.763939</td>\n      <td>-74.005333</td>\n      <td>40.710087</td>\n      <td>N</td>\n      <td>2124</td>\n    </tr>\n    <tr>\n      <th>id3504673</th>\n      <td>2</td>\n      <td>2016-04-06 19:32:31</td>\n      <td>2016-04-06 19:39:40</td>\n      <td>1</td>\n      <td>-74.010040</td>\n      <td>40.719971</td>\n      <td>-74.012268</td>\n      <td>40.706718</td>\n      <td>N</td>\n      <td>429</td>\n    </tr>\n    <tr>\n      <th>id2181028</th>\n      <td>2</td>\n      <td>2016-03-26 13:30:55</td>\n      <td>2016-03-26 13:38:10</td>\n      <td>1</td>\n      <td>-73.973053</td>\n      <td>40.793209</td>\n      <td>-73.972923</td>\n      <td>40.782520</td>\n      <td>N</td>\n      <td>435</td>\n    </tr>\n  </tbody>\n</table>\n</div>"
          },
          "metadata": {}
        }
      ]
    },
    {
      "metadata": {
        "_uuid": "fdc9bdb1b574fcb2d3469ed5f4af385ea5311656"
      },
      "cell_type": "markdown",
      "source": "### Data preprocessing"
    },
    {
      "metadata": {
        "_uuid": "c6268ac2e379c0e903a8e92ae905893b461aa907"
      },
      "cell_type": "markdown",
      "source": "#### Gestion des outliers"
    },
    {
      "metadata": {
        "_uuid": "bc4343291ab8b20bc7a5c68383fe0ea306a48894",
        "trusted": true
      },
      "cell_type": "code",
      "source": "df_train[\"trip_duration\"].hist(bins=100)",
      "execution_count": 119,
      "outputs": [
        {
          "output_type": "execute_result",
          "execution_count": 119,
          "data": {
            "text/plain": "<matplotlib.axes._subplots.AxesSubplot at 0x7f3136cb4198>"
          },
          "metadata": {}
        },
        {
          "output_type": "display_data",
          "data": {
            "text/plain": "<Figure size 432x288 with 1 Axes>",
            "image/png": "[encoded data removed]"
          },
          "metadata": {}
        }
      ]
    },
    {
      "metadata": {
        "_uuid": "9e8539f02997f986bb540ea5130fdeecec362050",
        "trusted": true
      },
      "cell_type": "code",
      "source": "df_train.loc[df_train[\"trip_duration\"] < 7000, \"trip_duration\"].hist(bins=100)",
      "execution_count": 120,
      "outputs": [
        {
          "output_type": "execute_result",
          "execution_count": 120,
          "data": {
            "text/plain": "<matplotlib.axes._subplots.AxesSubplot at 0x7f3117b1bbe0>"
          },
          "metadata": {}
        },
        {
          "output_type": "display_data",
          "data": {
            "text/plain": "<Figure size 432x288 with 1 Axes>",
            "image/png": "[encoded data removed]"
          },
          "metadata": {}
        }
      ]
    },
    {
      "metadata": {
        "_uuid": "6fa7b108470e5788200473041fb26a1ee91b3820",
        "trusted": true
      },
      "cell_type": "code",
      "source": "# Gestion des outliers\ndf_train['trip_duration'].hist(bins=100, log=True);",
      "execution_count": 121,
      "outputs": [
        {
          "output_type": "display_data",
          "data": {
            "text/plain": "<Figure size 432x288 with 1 Axes>",
            "image/png": "[encoded data removed]"
          },
          "metadata": {}
        }
      ]
    },
    {
      "metadata": {
        "_uuid": "2a9883b0ced61ded12bb17ee5928b48875b177b3"
      },
      "cell_type": "markdown",
      "source": "Cette transformation des données permet de mettre en évidence quelques outliers"
    },
    {
      "metadata": {
        "_uuid": "439e0f975c03dddeb9a8c2cd342fa65b5b212b87"
      },
      "cell_type": "markdown",
      "source": "#### Gestion des données manquantes"
    },
    {
      "metadata": {
        "_uuid": "0287af7e79dbee3deedf48b365935518754d646e",
        "trusted": true
      },
      "cell_type": "code",
      "source": "df_train.isna().sum()",
      "execution_count": 122,
      "outputs": [
        {
          "output_type": "execute_result",
          "execution_count": 122,
          "data": {
            "text/plain": "vendor_id             0\npickup_datetime       0\ndropoff_datetime      0\npassenger_count       0\npickup_longitude      0\npickup_latitude       0\ndropoff_longitude     0\ndropoff_latitude      0\nstore_and_fwd_flag    0\ntrip_duration         0\ndtype: int64"
          },
          "metadata": {}
        }
      ]
    },
    {
      "metadata": {
        "_uuid": "24365fe3061af308f346dabcd2912c16370128b6"
      },
      "cell_type": "markdown",
      "source": "Il n'ya aucune donnée manquante"
    },
    {
      "metadata": {
        "_uuid": "ff8c1aea8ca5d521441803d7d063904330fe5758",
        "trusted": true
      },
      "cell_type": "code",
      "source": "df_train.isnull().sum()",
      "execution_count": 123,
      "outputs": [
        {
          "output_type": "execute_result",
          "execution_count": 123,
          "data": {
            "text/plain": "vendor_id             0\npickup_datetime       0\ndropoff_datetime      0\npassenger_count       0\npickup_longitude      0\npickup_latitude       0\ndropoff_longitude     0\ndropoff_latitude      0\nstore_and_fwd_flag    0\ntrip_duration         0\ndtype: int64"
          },
          "metadata": {}
        }
      ]
    },
    {
      "metadata": {
        "_uuid": "d16ad4c3bd3d3ff4811386499cf0c1fa0732f68a"
      },
      "cell_type": "markdown",
      "source": "Aucune donnée nulle"
    },
    {
      "metadata": {
        "_uuid": "393b2c1b7d56a15cb152478aa4ac2ce602b3696a"
      },
      "cell_type": "markdown",
      "source": "#### Gestion des données dupliquées"
    },
    {
      "metadata": {
        "_uuid": "99bdefa2b732c9819b31f300e0e1b46b3d6dc96d",
        "trusted": true
      },
      "cell_type": "code",
      "source": "df_train.duplicated().sum()",
      "execution_count": 124,
      "outputs": [
        {
          "output_type": "execute_result",
          "execution_count": 124,
          "data": {
            "text/plain": "7"
          },
          "metadata": {}
        }
      ]
    },
    {
      "metadata": {
        "_uuid": "2105da25beb8ba1f2091d67338d43d6224383abc",
        "trusted": true
      },
      "cell_type": "code",
      "source": "df_train[df_train.duplicated()]",
      "execution_count": 125,
      "outputs": [
        {
          "output_type": "execute_result",
          "execution_count": 125,
          "data": {
            "text/plain": "           vendor_id      ...      trip_duration\nid                        ...                   \nid2386705          2      ...              85954\nid0946562          2      ...                149\nid1999875          2      ...                436\nid3429539          2      ...                149\nid0133335          2      ...                 31\nid0146524          2      ...                379\nid0978620          2      ...               5413\n\n[7 rows x 10 columns]",
            "text/html": "<div>\n<style scoped>\n    .dataframe tbody tr th:only-of-type {\n        vertical-align: middle;\n    }\n\n    .dataframe tbody tr th {\n        vertical-align: top;\n    }\n\n    .dataframe thead th {\n        text-align: right;\n    }\n</style>\n<table border=\"1\" class=\"dataframe\">\n  <thead>\n    <tr style=\"text-align: right;\">\n      <th></th>\n      <th>vendor_id</th>\n      <th>pickup_datetime</th>\n      <th>dropoff_datetime</th>\n      <th>passenger_count</th>\n      <th>pickup_longitude</th>\n      <th>pickup_latitude</th>\n      <th>dropoff_longitude</th>\n      <th>dropoff_latitude</th>\n      <th>store_and_fwd_flag</th>\n      <th>trip_duration</th>\n    </tr>\n    <tr>\n      <th>id</th>\n      <th></th>\n      <th></th>\n      <th></th>\n      <th></th>\n      <th></th>\n      <th></th>\n      <th></th>\n      <th></th>\n      <th></th>\n      <th></th>\n    </tr>\n  </thead>\n  <tbody>\n    <tr>\n      <th>id2386705</th>\n      <td>2</td>\n      <td>2016-03-06 10:06:31</td>\n      <td>2016-03-07 09:59:05</td>\n      <td>4</td>\n      <td>-73.997055</td>\n      <td>40.737183</td>\n      <td>-73.991913</td>\n      <td>40.734577</td>\n      <td>N</td>\n      <td>85954</td>\n    </tr>\n    <tr>\n      <th>id0946562</th>\n      <td>2</td>\n      <td>2016-03-05 18:22:41</td>\n      <td>2016-03-05 18:25:10</td>\n      <td>2</td>\n      <td>-73.997292</td>\n      <td>40.691071</td>\n      <td>-73.999428</td>\n      <td>40.683388</td>\n      <td>N</td>\n      <td>149</td>\n    </tr>\n    <tr>\n      <th>id1999875</th>\n      <td>2</td>\n      <td>2016-06-09 16:17:06</td>\n      <td>2016-06-09 16:24:22</td>\n      <td>2</td>\n      <td>-73.958359</td>\n      <td>40.778519</td>\n      <td>-73.947296</td>\n      <td>40.779682</td>\n      <td>N</td>\n      <td>436</td>\n    </tr>\n    <tr>\n      <th>id3429539</th>\n      <td>2</td>\n      <td>2016-05-04 14:54:59</td>\n      <td>2016-05-04 14:57:28</td>\n      <td>4</td>\n      <td>-73.958336</td>\n      <td>40.800922</td>\n      <td>-73.959106</td>\n      <td>40.801910</td>\n      <td>N</td>\n      <td>149</td>\n    </tr>\n    <tr>\n      <th>id0133335</th>\n      <td>2</td>\n      <td>2016-02-16 21:36:35</td>\n      <td>2016-02-16 21:37:06</td>\n      <td>2</td>\n      <td>-74.008034</td>\n      <td>40.723553</td>\n      <td>-74.008034</td>\n      <td>40.723553</td>\n      <td>N</td>\n      <td>31</td>\n    </tr>\n    <tr>\n      <th>id0146524</th>\n      <td>2</td>\n      <td>2016-03-12 16:41:35</td>\n      <td>2016-03-12 16:47:54</td>\n      <td>1</td>\n      <td>-73.974533</td>\n      <td>40.742298</td>\n      <td>-73.979507</td>\n      <td>40.750549</td>\n      <td>N</td>\n      <td>379</td>\n    </tr>\n    <tr>\n      <th>id0978620</th>\n      <td>2</td>\n      <td>2016-01-21 12:04:53</td>\n      <td>2016-01-21 13:35:06</td>\n      <td>3</td>\n      <td>-73.800667</td>\n      <td>40.645954</td>\n      <td>-73.985809</td>\n      <td>40.763363</td>\n      <td>N</td>\n      <td>5413</td>\n    </tr>\n  </tbody>\n</table>\n</div>"
          },
          "metadata": {}
        }
      ]
    },
    {
      "metadata": {
        "_uuid": "ddf0dfcda871800210dea55cc44a8a5695f9e360"
      },
      "cell_type": "markdown",
      "source": "Il ne semble pas nécessaire de supprimer ces données. Aucune des colonnes ne semble être réellement en double dans ces données"
    },
    {
      "metadata": {
        "_uuid": "ab2ad3321910fb99c1b51cda84ff0b6997309c05"
      },
      "cell_type": "markdown",
      "source": "#### Gestion des données catégoriques"
    },
    {
      "metadata": {
        "_uuid": "bff0b8a3758b4c534ffc1f0e991db6e797867f52",
        "trusted": true
      },
      "cell_type": "code",
      "source": "# Gestion des données catégoriques\nCAT_COL = \"store_and_fwd_flag\"\ndf_train[CAT_COL] = df_train[CAT_COL].astype('category').cat.codes\ndf_test[CAT_COL] = df_test[CAT_COL].astype('category').cat.codes",
      "execution_count": 126,
      "outputs": []
    },
    {
      "metadata": {
        "_uuid": "6a3e6f87fd8c0e6e12b95c0e4a51b8cb21a03f27"
      },
      "cell_type": "markdown",
      "source": "### Features engineering"
    },
    {
      "metadata": {
        "_uuid": "d8bb3a748eb1f2ec1e8524a2c7f81629db860d12"
      },
      "cell_type": "markdown",
      "source": "#### Features creation"
    },
    {
      "metadata": {
        "_uuid": "4278b77d4351ef132c37033aa11eed8885ecc99f"
      },
      "cell_type": "markdown",
      "source": "Création de la colonne \"distance\" qui contiendra la distance entre les coordonnées géographique de départ (pickup_latitude, pickup_longitude) et d'arrivée (dropoff_latitude, dropoff_longitude)\n\nLa formule donnée par Wikipédia pour calculer la distance à vol d'oiseau\n$$M = 60\\arccos \\,[\\sin(\\varphi_A)\\sin(\\varphi_B) + \\cos(\\varphi_A)\\cos(\\varphi_B) \\cos (\\lambda_B - \\lambda_A)]\\,$$"
    },
    {
      "metadata": {
        "_uuid": "202a0217f2a0f936f673a67c0facb2677ee65517",
        "trusted": true
      },
      "cell_type": "code",
      "source": "import math\nfrom geopy.distance import geodesic\n\ndef compute_distance(df):\n    pointA = (df[\"pickup_latitude\"], df[\"pickup_longitude\"])\n    pointB = (df[\"dropoff_latitude\"], df[\"dropoff_longitude\"])\n\n    return geodesic(pointA, pointB).miles\n    \ndf_train[\"distance\"] = df_train.apply(compute_distance, axis=1)\ndf_train.head(20)",
      "execution_count": 127,
      "outputs": [
        {
          "output_type": "execute_result",
          "execution_count": 127,
          "data": {
            "text/plain": "           vendor_id      pickup_datetime    ...    trip_duration  distance\nid                                           ...                           \nid2875421          2  2016-03-14 17:24:55    ...              455  0.933406\nid2377394          1  2016-06-12 00:43:35    ...              663  1.123849\nid3858529          2  2016-01-19 11:35:24    ...             2124  3.964154\nid3504673          2  2016-04-06 19:32:31    ...              429  0.921886\nid2181028          2  2016-03-26 13:30:55    ...              435  0.737591\nid0801584          2  2016-01-30 22:01:40    ...              443  0.683275\nid1813257          1  2016-06-17 22:34:59    ...              341  0.824764\nid1324603          2  2016-05-21 07:54:58    ...             1551  3.553009\nid1301050          1  2016-05-27 23:12:23    ...              255  0.815587\nid0012891          2  2016-03-10 21:45:01    ...             1225  3.178194\nid1436371          2  2016-05-10 22:08:41    ...             1274  2.363641\nid1299289          2  2016-05-15 11:16:11    ...             1128  2.346949\nid1187965          2  2016-02-19 09:52:46    ...             1114  1.158117\nid0799785          2  2016-06-01 20:58:29    ...              260  0.617048\nid2900608          2  2016-05-27 00:43:36    ...             1414  3.961734\nid3319787          1  2016-05-16 15:29:02    ...              211  0.408627\nid3379579          2  2016-04-11 17:29:50    ...             2316  2.127645\nid1154431          1  2016-04-14 08:48:26    ...              731  1.575581\nid3552682          1  2016-06-27 09:55:13    ...             1317  2.860055\nid3390316          2  2016-06-05 13:47:23    ...              251  0.809452\n\n[20 rows x 11 columns]",
            "text/html": "<div>\n<style scoped>\n    .dataframe tbody tr th:only-of-type {\n        vertical-align: middle;\n    }\n\n    .dataframe tbody tr th {\n        vertical-align: top;\n    }\n\n    .dataframe thead th {\n        text-align: right;\n    }\n</style>\n<table border=\"1\" class=\"dataframe\">\n  <thead>\n    <tr style=\"text-align: right;\">\n      <th></th>\n      <th>vendor_id</th>\n      <th>pickup_datetime</th>\n      <th>dropoff_datetime</th>\n      <th>passenger_count</th>\n      <th>pickup_longitude</th>\n      <th>pickup_latitude</th>\n      <th>dropoff_longitude</th>\n      <th>dropoff_latitude</th>\n      <th>store_and_fwd_flag</th>\n      <th>trip_duration</th>\n      <th>distance</th>\n    </tr>\n    <tr>\n      <th>id</th>\n      <th></th>\n      <th></th>\n      <th></th>\n      <th></th>\n      <th></th>\n      <th></th>\n      <th></th>\n      <th></th>\n      <th></th>\n      <th></th>\n      <th></th>\n    </tr>\n  </thead>\n  <tbody>\n    <tr>\n      <th>id2875421</th>\n      <td>2</td>\n      <td>2016-03-14 17:24:55</td>\n      <td>2016-03-14 17:32:30</td>\n      <td>1</td>\n      <td>-73.982155</td>\n      <td>40.767937</td>\n      <td>-73.964630</td>\n      <td>40.765602</td>\n      <td>0</td>\n      <td>455</td>\n      <td>0.933406</td>\n    </tr>\n    <tr>\n      <th>id2377394</th>\n      <td>1</td>\n      <td>2016-06-12 00:43:35</td>\n      <td>2016-06-12 00:54:38</td>\n      <td>1</td>\n      <td>-73.980415</td>\n      <td>40.738564</td>\n      <td>-73.999481</td>\n      <td>40.731152</td>\n      <td>0</td>\n      <td>663</td>\n      <td>1.123849</td>\n    </tr>\n    <tr>\n      <th>id3858529</th>\n      <td>2</td>\n      <td>2016-01-19 11:35:24</td>\n      <td>2016-01-19 12:10:48</td>\n      <td>1</td>\n      <td>-73.979027</td>\n      <td>40.763939</td>\n      <td>-74.005333</td>\n      <td>40.710087</td>\n      <td>0</td>\n      <td>2124</td>\n      <td>3.964154</td>\n    </tr>\n    <tr>\n      <th>id3504673</th>\n      <td>2</td>\n      <td>2016-04-06 19:32:31</td>\n      <td>2016-04-06 19:39:40</td>\n      <td>1</td>\n      <td>-74.010040</td>\n      <td>40.719971</td>\n      <td>-74.012268</td>\n      <td>40.706718</td>\n      <td>0</td>\n      <td>429</td>\n      <td>0.921886</td>\n    </tr>\n    <tr>\n      <th>id2181028</th>\n      <td>2</td>\n      <td>2016-03-26 13:30:55</td>\n      <td>2016-03-26 13:38:10</td>\n      <td>1</td>\n      <td>-73.973053</td>\n      <td>40.793209</td>\n      <td>-73.972923</td>\n      <td>40.782520</td>\n      <td>0</td>\n      <td>435</td>\n      <td>0.737591</td>\n    </tr>\n    <tr>\n      <th>id0801584</th>\n      <td>2</td>\n      <td>2016-01-30 22:01:40</td>\n      <td>2016-01-30 22:09:03</td>\n      <td>6</td>\n      <td>-73.982857</td>\n      <td>40.742195</td>\n      <td>-73.992081</td>\n      <td>40.749184</td>\n      <td>0</td>\n      <td>443</td>\n      <td>0.683275</td>\n    </tr>\n    <tr>\n      <th>id1813257</th>\n      <td>1</td>\n      <td>2016-06-17 22:34:59</td>\n      <td>2016-06-17 22:40:40</td>\n      <td>4</td>\n      <td>-73.969017</td>\n      <td>40.757839</td>\n      <td>-73.957405</td>\n      <td>40.765896</td>\n      <td>0</td>\n      <td>341</td>\n      <td>0.824764</td>\n    </tr>\n    <tr>\n      <th>id1324603</th>\n      <td>2</td>\n      <td>2016-05-21 07:54:58</td>\n      <td>2016-05-21 08:20:49</td>\n      <td>1</td>\n      <td>-73.969276</td>\n      <td>40.797779</td>\n      <td>-73.922470</td>\n      <td>40.760559</td>\n      <td>0</td>\n      <td>1551</td>\n      <td>3.553009</td>\n    </tr>\n    <tr>\n      <th>id1301050</th>\n      <td>1</td>\n      <td>2016-05-27 23:12:23</td>\n      <td>2016-05-27 23:16:38</td>\n      <td>1</td>\n      <td>-73.999481</td>\n      <td>40.738400</td>\n      <td>-73.985786</td>\n      <td>40.732815</td>\n      <td>0</td>\n      <td>255</td>\n      <td>0.815587</td>\n    </tr>\n    <tr>\n      <th>id0012891</th>\n      <td>2</td>\n      <td>2016-03-10 21:45:01</td>\n      <td>2016-03-10 22:05:26</td>\n      <td>1</td>\n      <td>-73.981049</td>\n      <td>40.744339</td>\n      <td>-73.973000</td>\n      <td>40.789989</td>\n      <td>0</td>\n      <td>1225</td>\n      <td>3.178194</td>\n    </tr>\n    <tr>\n      <th>id1436371</th>\n      <td>2</td>\n      <td>2016-05-10 22:08:41</td>\n      <td>2016-05-10 22:29:55</td>\n      <td>1</td>\n      <td>-73.982651</td>\n      <td>40.763840</td>\n      <td>-74.002228</td>\n      <td>40.732990</td>\n      <td>0</td>\n      <td>1274</td>\n      <td>2.363641</td>\n    </tr>\n    <tr>\n      <th>id1299289</th>\n      <td>2</td>\n      <td>2016-05-15 11:16:11</td>\n      <td>2016-05-15 11:34:59</td>\n      <td>4</td>\n      <td>-73.991531</td>\n      <td>40.749439</td>\n      <td>-73.956543</td>\n      <td>40.770630</td>\n      <td>0</td>\n      <td>1128</td>\n      <td>2.346949</td>\n    </tr>\n    <tr>\n      <th>id1187965</th>\n      <td>2</td>\n      <td>2016-02-19 09:52:46</td>\n      <td>2016-02-19 10:11:20</td>\n      <td>2</td>\n      <td>-73.962982</td>\n      <td>40.756680</td>\n      <td>-73.984406</td>\n      <td>40.760719</td>\n      <td>0</td>\n      <td>1114</td>\n      <td>1.158117</td>\n    </tr>\n    <tr>\n      <th>id0799785</th>\n      <td>2</td>\n      <td>2016-06-01 20:58:29</td>\n      <td>2016-06-01 21:02:49</td>\n      <td>1</td>\n      <td>-73.956306</td>\n      <td>40.767941</td>\n      <td>-73.966110</td>\n      <td>40.763000</td>\n      <td>0</td>\n      <td>260</td>\n      <td>0.617048</td>\n    </tr>\n    <tr>\n      <th>id2900608</th>\n      <td>2</td>\n      <td>2016-05-27 00:43:36</td>\n      <td>2016-05-27 01:07:10</td>\n      <td>1</td>\n      <td>-73.992195</td>\n      <td>40.727226</td>\n      <td>-73.974655</td>\n      <td>40.783070</td>\n      <td>0</td>\n      <td>1414</td>\n      <td>3.961734</td>\n    </tr>\n    <tr>\n      <th>id3319787</th>\n      <td>1</td>\n      <td>2016-05-16 15:29:02</td>\n      <td>2016-05-16 15:32:33</td>\n      <td>1</td>\n      <td>-73.955513</td>\n      <td>40.768593</td>\n      <td>-73.948761</td>\n      <td>40.771545</td>\n      <td>0</td>\n      <td>211</td>\n      <td>0.408627</td>\n    </tr>\n    <tr>\n      <th>id3379579</th>\n      <td>2</td>\n      <td>2016-04-11 17:29:50</td>\n      <td>2016-04-11 18:08:26</td>\n      <td>1</td>\n      <td>-73.991165</td>\n      <td>40.755562</td>\n      <td>-73.999290</td>\n      <td>40.725353</td>\n      <td>0</td>\n      <td>2316</td>\n      <td>2.127645</td>\n    </tr>\n    <tr>\n      <th>id1154431</th>\n      <td>1</td>\n      <td>2016-04-14 08:48:26</td>\n      <td>2016-04-14 09:00:37</td>\n      <td>1</td>\n      <td>-73.994255</td>\n      <td>40.745804</td>\n      <td>-73.999657</td>\n      <td>40.723343</td>\n      <td>0</td>\n      <td>731</td>\n      <td>1.575581</td>\n    </tr>\n    <tr>\n      <th>id3552682</th>\n      <td>1</td>\n      <td>2016-06-27 09:55:13</td>\n      <td>2016-06-27 10:17:10</td>\n      <td>1</td>\n      <td>-74.003983</td>\n      <td>40.713013</td>\n      <td>-73.979195</td>\n      <td>40.749924</td>\n      <td>0</td>\n      <td>1317</td>\n      <td>2.860055</td>\n    </tr>\n    <tr>\n      <th>id3390316</th>\n      <td>2</td>\n      <td>2016-06-05 13:47:23</td>\n      <td>2016-06-05 13:51:34</td>\n      <td>1</td>\n      <td>-73.983887</td>\n      <td>40.738197</td>\n      <td>-73.991203</td>\n      <td>40.727871</td>\n      <td>0</td>\n      <td>251</td>\n      <td>0.809452</td>\n    </tr>\n  </tbody>\n</table>\n</div>"
          },
          "metadata": {}
        }
      ]
    },
    {
      "metadata": {
        "trusted": true,
        "_uuid": "716a6bafab66b9d096ffda8c65ab59b4c39151d1"
      },
      "cell_type": "code",
      "source": "df_test[\"distance\"] = df_test.apply(compute_distance, axis=1)\ndf_test.head(20)",
      "execution_count": 128,
      "outputs": [
        {
          "output_type": "execute_result",
          "execution_count": 128,
          "data": {
            "text/plain": "           vendor_id    ...       distance\nid                      ...               \nid3004672          1    ...       1.704336\nid3505355          1    ...       1.712358\nid1217141          1    ...       0.812202\nid2150126          2    ...       3.272749\nid1598245          1    ...       0.597601\nid0668992          1    ...       2.598299\nid1765014          1    ...       2.183113\nid0898117          1    ...       1.853780\nid3905224          2    ...      11.711224\nid1543102          2    ...       1.131224\nid3024712          1    ...       2.949561\nid3665810          2    ...       0.490608\nid1836461          1    ...       0.948767\nid3457080          2    ...       1.620781\nid3376065          1    ...       3.379922\nid3008739          1    ...       2.987037\nid0902216          2    ...       2.234931\nid3564824          2    ...       1.085207\nid0820280          2    ...       0.428862\nid0775088          2    ...       3.457524\n\n[20 rows x 9 columns]",
            "text/html": "<div>\n<style scoped>\n    .dataframe tbody tr th:only-of-type {\n        vertical-align: middle;\n    }\n\n    .dataframe tbody tr th {\n        vertical-align: top;\n    }\n\n    .dataframe thead th {\n        text-align: right;\n    }\n</style>\n<table border=\"1\" class=\"dataframe\">\n  <thead>\n    <tr style=\"text-align: right;\">\n      <th></th>\n      <th>vendor_id</th>\n      <th>pickup_datetime</th>\n      <th>passenger_count</th>\n      <th>pickup_longitude</th>\n      <th>pickup_latitude</th>\n      <th>dropoff_longitude</th>\n      <th>dropoff_latitude</th>\n      <th>store_and_fwd_flag</th>\n      <th>distance</th>\n    </tr>\n    <tr>\n      <th>id</th>\n      <th></th>\n      <th></th>\n      <th></th>\n      <th></th>\n      <th></th>\n      <th></th>\n      <th></th>\n      <th></th>\n      <th></th>\n    </tr>\n  </thead>\n  <tbody>\n    <tr>\n      <th>id3004672</th>\n      <td>1</td>\n      <td>2016-06-30 23:59:58</td>\n      <td>1</td>\n      <td>-73.988129</td>\n      <td>40.732029</td>\n      <td>-73.990173</td>\n      <td>40.756680</td>\n      <td>0</td>\n      <td>1.704336</td>\n    </tr>\n    <tr>\n      <th>id3505355</th>\n      <td>1</td>\n      <td>2016-06-30 23:59:53</td>\n      <td>1</td>\n      <td>-73.964203</td>\n      <td>40.679993</td>\n      <td>-73.959808</td>\n      <td>40.655403</td>\n      <td>0</td>\n      <td>1.712358</td>\n    </tr>\n    <tr>\n      <th>id1217141</th>\n      <td>1</td>\n      <td>2016-06-30 23:59:47</td>\n      <td>1</td>\n      <td>-73.997437</td>\n      <td>40.737583</td>\n      <td>-73.986160</td>\n      <td>40.729523</td>\n      <td>0</td>\n      <td>0.812202</td>\n    </tr>\n    <tr>\n      <th>id2150126</th>\n      <td>2</td>\n      <td>2016-06-30 23:59:41</td>\n      <td>1</td>\n      <td>-73.956070</td>\n      <td>40.771900</td>\n      <td>-73.986427</td>\n      <td>40.730469</td>\n      <td>0</td>\n      <td>3.272749</td>\n    </tr>\n    <tr>\n      <th>id1598245</th>\n      <td>1</td>\n      <td>2016-06-30 23:59:33</td>\n      <td>1</td>\n      <td>-73.970215</td>\n      <td>40.761475</td>\n      <td>-73.961510</td>\n      <td>40.755890</td>\n      <td>0</td>\n      <td>0.597601</td>\n    </tr>\n    <tr>\n      <th>id0668992</th>\n      <td>1</td>\n      <td>2016-06-30 23:59:30</td>\n      <td>1</td>\n      <td>-73.991302</td>\n      <td>40.749798</td>\n      <td>-73.980515</td>\n      <td>40.786549</td>\n      <td>0</td>\n      <td>2.598299</td>\n    </tr>\n    <tr>\n      <th>id1765014</th>\n      <td>1</td>\n      <td>2016-06-30 23:59:15</td>\n      <td>1</td>\n      <td>-73.978310</td>\n      <td>40.741550</td>\n      <td>-73.952072</td>\n      <td>40.717003</td>\n      <td>0</td>\n      <td>2.183113</td>\n    </tr>\n    <tr>\n      <th>id0898117</th>\n      <td>1</td>\n      <td>2016-06-30 23:59:09</td>\n      <td>2</td>\n      <td>-74.012711</td>\n      <td>40.701527</td>\n      <td>-73.986481</td>\n      <td>40.719509</td>\n      <td>0</td>\n      <td>1.853780</td>\n    </tr>\n    <tr>\n      <th>id3905224</th>\n      <td>2</td>\n      <td>2016-06-30 23:58:55</td>\n      <td>2</td>\n      <td>-73.992332</td>\n      <td>40.730511</td>\n      <td>-73.875618</td>\n      <td>40.875214</td>\n      <td>0</td>\n      <td>11.711224</td>\n    </tr>\n    <tr>\n      <th>id1543102</th>\n      <td>2</td>\n      <td>2016-06-30 23:58:46</td>\n      <td>1</td>\n      <td>-73.993179</td>\n      <td>40.748760</td>\n      <td>-73.979309</td>\n      <td>40.761311</td>\n      <td>0</td>\n      <td>1.131224</td>\n    </tr>\n    <tr>\n      <th>id3024712</th>\n      <td>1</td>\n      <td>2016-06-30 23:58:32</td>\n      <td>4</td>\n      <td>-73.968529</td>\n      <td>40.678432</td>\n      <td>-73.966591</td>\n      <td>40.635712</td>\n      <td>0</td>\n      <td>2.949561</td>\n    </tr>\n    <tr>\n      <th>id3665810</th>\n      <td>2</td>\n      <td>2016-06-30 23:58:05</td>\n      <td>1</td>\n      <td>-73.982773</td>\n      <td>40.756908</td>\n      <td>-73.974693</td>\n      <td>40.753330</td>\n      <td>0</td>\n      <td>0.490608</td>\n    </tr>\n    <tr>\n      <th>id1836461</th>\n      <td>1</td>\n      <td>2016-06-30 23:58:01</td>\n      <td>1</td>\n      <td>-73.921104</td>\n      <td>40.767292</td>\n      <td>-73.936859</td>\n      <td>40.774044</td>\n      <td>0</td>\n      <td>0.948767</td>\n    </tr>\n    <tr>\n      <th>id3457080</th>\n      <td>2</td>\n      <td>2016-06-30 23:57:57</td>\n      <td>1</td>\n      <td>-73.986801</td>\n      <td>40.734917</td>\n      <td>-73.975899</td>\n      <td>40.756893</td>\n      <td>0</td>\n      <td>1.620781</td>\n    </tr>\n    <tr>\n      <th>id3376065</th>\n      <td>1</td>\n      <td>2016-06-30 23:57:25</td>\n      <td>1</td>\n      <td>-73.996346</td>\n      <td>40.748161</td>\n      <td>-73.950829</td>\n      <td>40.782825</td>\n      <td>0</td>\n      <td>3.379922</td>\n    </tr>\n    <tr>\n      <th>id3008739</th>\n      <td>1</td>\n      <td>2016-06-30 23:57:22</td>\n      <td>1</td>\n      <td>-73.968025</td>\n      <td>40.762283</td>\n      <td>-73.934792</td>\n      <td>40.797436</td>\n      <td>0</td>\n      <td>2.987037</td>\n    </tr>\n    <tr>\n      <th>id0902216</th>\n      <td>2</td>\n      <td>2016-06-30 23:56:44</td>\n      <td>1</td>\n      <td>-74.007713</td>\n      <td>40.740681</td>\n      <td>-73.968811</td>\n      <td>40.753860</td>\n      <td>0</td>\n      <td>2.234931</td>\n    </tr>\n    <tr>\n      <th>id3564824</th>\n      <td>2</td>\n      <td>2016-06-30 23:55:36</td>\n      <td>5</td>\n      <td>-73.984299</td>\n      <td>40.724983</td>\n      <td>-73.981819</td>\n      <td>40.740597</td>\n      <td>0</td>\n      <td>1.085207</td>\n    </tr>\n    <tr>\n      <th>id0820280</th>\n      <td>2</td>\n      <td>2016-06-30 23:55:28</td>\n      <td>1</td>\n      <td>-73.952599</td>\n      <td>40.768322</td>\n      <td>-73.948555</td>\n      <td>40.773724</td>\n      <td>0</td>\n      <td>0.428862</td>\n    </tr>\n    <tr>\n      <th>id0775088</th>\n      <td>2</td>\n      <td>2016-06-30 23:55:20</td>\n      <td>1</td>\n      <td>-73.966690</td>\n      <td>40.794090</td>\n      <td>-73.920776</td>\n      <td>40.830059</td>\n      <td>0</td>\n      <td>3.457524</td>\n    </tr>\n  </tbody>\n</table>\n</div>"
          },
          "metadata": {}
        }
      ]
    },
    {
      "metadata": {
        "_uuid": "c0feb1f7ec5ac5fa91523f707c2931f46be2cf9f"
      },
      "cell_type": "markdown",
      "source": "Création de la colonne \"pickup_hour\" et \"pickup_day\" car selon les jours et les heures (jours de travail, matin à 8h ou soir à 22h), le temps d'un trajet peut varier suivant le traffic routier"
    },
    {
      "metadata": {
        "_uuid": "05932f4bf56f87ac357e5b3fee7fe88e97a08505",
        "trusted": true
      },
      "cell_type": "code",
      "source": "df_train[\"pickup_hour\"] = pd.to_datetime(df_train.pickup_datetime).dt.hour\ndf_train[\"pickup_day\"] = pd.to_datetime(df_train.pickup_datetime).dt.dayofweek\n\ndf_test[\"pickup_hour\"] = pd.to_datetime(df_test.pickup_datetime).dt.hour\ndf_test[\"pickup_day\"] = pd.to_datetime(df_test.pickup_datetime).dt.dayofweek\n\ndf_train.head()",
      "execution_count": 129,
      "outputs": [
        {
          "output_type": "execute_result",
          "execution_count": 129,
          "data": {
            "text/plain": "           vendor_id      pickup_datetime     ...     pickup_hour  pickup_day\nid                                            ...                            \nid2875421          2  2016-03-14 17:24:55     ...              17           0\nid2377394          1  2016-06-12 00:43:35     ...               0           6\nid3858529          2  2016-01-19 11:35:24     ...              11           1\nid3504673          2  2016-04-06 19:32:31     ...              19           2\nid2181028          2  2016-03-26 13:30:55     ...              13           5\n\n[5 rows x 13 columns]",
            "text/html": "<div>\n<style scoped>\n    .dataframe tbody tr th:only-of-type {\n        vertical-align: middle;\n    }\n\n    .dataframe tbody tr th {\n        vertical-align: top;\n    }\n\n    .dataframe thead th {\n        text-align: right;\n    }\n</style>\n<table border=\"1\" class=\"dataframe\">\n  <thead>\n    <tr style=\"text-align: right;\">\n      <th></th>\n      <th>vendor_id</th>\n      <th>pickup_datetime</th>\n      <th>dropoff_datetime</th>\n      <th>passenger_count</th>\n      <th>pickup_longitude</th>\n      <th>pickup_latitude</th>\n      <th>dropoff_longitude</th>\n      <th>dropoff_latitude</th>\n      <th>store_and_fwd_flag</th>\n      <th>trip_duration</th>\n      <th>distance</th>\n      <th>pickup_hour</th>\n      <th>pickup_day</th>\n    </tr>\n    <tr>\n      <th>id</th>\n      <th></th>\n      <th></th>\n      <th></th>\n      <th></th>\n      <th></th>\n      <th></th>\n      <th></th>\n      <th></th>\n      <th></th>\n      <th></th>\n      <th></th>\n      <th></th>\n      <th></th>\n    </tr>\n  </thead>\n  <tbody>\n    <tr>\n      <th>id2875421</th>\n      <td>2</td>\n      <td>2016-03-14 17:24:55</td>\n      <td>2016-03-14 17:32:30</td>\n      <td>1</td>\n      <td>-73.982155</td>\n      <td>40.767937</td>\n      <td>-73.964630</td>\n      <td>40.765602</td>\n      <td>0</td>\n      <td>455</td>\n      <td>0.933406</td>\n      <td>17</td>\n      <td>0</td>\n    </tr>\n    <tr>\n      <th>id2377394</th>\n      <td>1</td>\n      <td>2016-06-12 00:43:35</td>\n      <td>2016-06-12 00:54:38</td>\n      <td>1</td>\n      <td>-73.980415</td>\n      <td>40.738564</td>\n      <td>-73.999481</td>\n      <td>40.731152</td>\n      <td>0</td>\n      <td>663</td>\n      <td>1.123849</td>\n      <td>0</td>\n      <td>6</td>\n    </tr>\n    <tr>\n      <th>id3858529</th>\n      <td>2</td>\n      <td>2016-01-19 11:35:24</td>\n      <td>2016-01-19 12:10:48</td>\n      <td>1</td>\n      <td>-73.979027</td>\n      <td>40.763939</td>\n      <td>-74.005333</td>\n      <td>40.710087</td>\n      <td>0</td>\n      <td>2124</td>\n      <td>3.964154</td>\n      <td>11</td>\n      <td>1</td>\n    </tr>\n    <tr>\n      <th>id3504673</th>\n      <td>2</td>\n      <td>2016-04-06 19:32:31</td>\n      <td>2016-04-06 19:39:40</td>\n      <td>1</td>\n      <td>-74.010040</td>\n      <td>40.719971</td>\n      <td>-74.012268</td>\n      <td>40.706718</td>\n      <td>0</td>\n      <td>429</td>\n      <td>0.921886</td>\n      <td>19</td>\n      <td>2</td>\n    </tr>\n    <tr>\n      <th>id2181028</th>\n      <td>2</td>\n      <td>2016-03-26 13:30:55</td>\n      <td>2016-03-26 13:38:10</td>\n      <td>1</td>\n      <td>-73.973053</td>\n      <td>40.793209</td>\n      <td>-73.972923</td>\n      <td>40.782520</td>\n      <td>0</td>\n      <td>435</td>\n      <td>0.737591</td>\n      <td>13</td>\n      <td>5</td>\n    </tr>\n  </tbody>\n</table>\n</div>"
          },
          "metadata": {}
        }
      ]
    },
    {
      "metadata": {
        "trusted": true,
        "_uuid": "4294bbd9841264410d2d009dc88278822116095f"
      },
      "cell_type": "code",
      "source": "df_train[\"pickup_hour\"].plot.hist(bins=24, title=\"Fréquence des trajets\")",
      "execution_count": 130,
      "outputs": [
        {
          "output_type": "execute_result",
          "execution_count": 130,
          "data": {
            "text/plain": "<matplotlib.axes._subplots.AxesSubplot at 0x7f3136ed1940>"
          },
          "metadata": {}
        },
        {
          "output_type": "display_data",
          "data": {
            "text/plain": "<Figure size 432x288 with 1 Axes>",
            "image/png": "[encoded data removed]"
          },
          "metadata": {}
        }
      ]
    },
    {
      "metadata": {
        "_uuid": "bc7d68f1a8722affe8adcde184a78e8fce0381ed"
      },
      "cell_type": "markdown",
      "source": "Il semble y avoir moins de trajets très tôt en matinée"
    },
    {
      "metadata": {
        "trusted": true,
        "_uuid": "cd0f26a41a03b87de12641dc01bf7fe2cefa74d7"
      },
      "cell_type": "code",
      "source": "df_train['pickup_day'].plot.hist(bins=7)",
      "execution_count": 131,
      "outputs": [
        {
          "output_type": "execute_result",
          "execution_count": 131,
          "data": {
            "text/plain": "<matplotlib.axes._subplots.AxesSubplot at 0x7f31370641d0>"
          },
          "metadata": {}
        },
        {
          "output_type": "display_data",
          "data": {
            "text/plain": "<Figure size 432x288 with 1 Axes>",
            "image/png": "[encoded data removed]"
          },
          "metadata": {}
        }
      ]
    },
    {
      "metadata": {
        "_uuid": "a3cdd9878cf7804f0fbd6af8be1a87c8baccff1c"
      },
      "cell_type": "markdown",
      "source": "La variation en fonction du jour est cependant plus faible."
    },
    {
      "metadata": {
        "_uuid": "8376576147eb41133ddc6831d41d010cce8c6a8a"
      },
      "cell_type": "markdown",
      "source": "Je vérifie que le traitement n'a pas généré de valeurs nulles"
    },
    {
      "metadata": {
        "trusted": true,
        "_uuid": "81dd2912260badec7395afa9b74213bb99aa1389"
      },
      "cell_type": "code",
      "source": "df_train.isnull().sum()",
      "execution_count": 132,
      "outputs": [
        {
          "output_type": "execute_result",
          "execution_count": 132,
          "data": {
            "text/plain": "vendor_id             0\npickup_datetime       0\ndropoff_datetime      0\npassenger_count       0\npickup_longitude      0\npickup_latitude       0\ndropoff_longitude     0\ndropoff_latitude      0\nstore_and_fwd_flag    0\ntrip_duration         0\ndistance              0\npickup_hour           0\npickup_day            0\ndtype: int64"
          },
          "metadata": {}
        }
      ]
    },
    {
      "metadata": {
        "trusted": true,
        "_uuid": "fee0086c7e527347cd121758b3edf727f275c4c5"
      },
      "cell_type": "code",
      "source": "df_test.isna().sum()",
      "execution_count": 133,
      "outputs": [
        {
          "output_type": "execute_result",
          "execution_count": 133,
          "data": {
            "text/plain": "vendor_id             0\npickup_datetime       0\npassenger_count       0\npickup_longitude      0\npickup_latitude       0\ndropoff_longitude     0\ndropoff_latitude      0\nstore_and_fwd_flag    0\ndistance              0\npickup_hour           0\npickup_day            0\ndtype: int64"
          },
          "metadata": {}
        }
      ]
    },
    {
      "metadata": {
        "_uuid": "4adde25145608f900466057d45cd0f8712531541"
      },
      "cell_type": "markdown",
      "source": "#### Features selection"
    },
    {
      "metadata": {
        "_uuid": "02046a91747c2f0e6b48dc56553ae7b210a65e23",
        "trusted": true
      },
      "cell_type": "code",
      "source": "FEATURES = [\"pickup_latitude\", \"pickup_longitude\", \"dropoff_latitude\", \"dropoff_longitude\", \"pickup_hour\", \"pickup_day\", \"distance\"]\nTARGET = 'trip_duration'",
      "execution_count": 134,
      "outputs": []
    },
    {
      "metadata": {
        "_uuid": "8da4973229ab7681e3ab77348d66df00bd714af2",
        "trusted": true
      },
      "cell_type": "code",
      "source": "X_train = df_train[FEATURES]\nY_train = df_train[TARGET]\n\nX_test = df_test[FEATURES]\n\nX_train.shape, Y_train.shape",
      "execution_count": 135,
      "outputs": [
        {
          "output_type": "execute_result",
          "execution_count": 135,
          "data": {
            "text/plain": "((1458644, 7), (1458644,))"
          },
          "metadata": {}
        }
      ]
    },
    {
      "metadata": {
        "_uuid": "8f3ddd15f6564af1793db9760c81315e12593d2f"
      },
      "cell_type": "markdown",
      "source": "### Model Selection"
    },
    {
      "metadata": {
        "_uuid": "7bfacbe0c79715105b9269c723ccebbca592a48c",
        "trusted": true
      },
      "cell_type": "code",
      "source": "from sklearn.ensemble import RandomForestRegressor\n\nm1 = RandomForestRegressor()\nm1.fit(X_train, Y_train)",
      "execution_count": 136,
      "outputs": [
        {
          "output_type": "stream",
          "text": "/opt/conda/lib/python3.6/site-packages/sklearn/ensemble/forest.py:246: FutureWarning: The default value of n_estimators will change from 10 in version 0.20 to 100 in 0.22.\n  \"10 in version 0.20 to 100 in 0.22.\", FutureWarning)\n",
          "name": "stderr"
        },
        {
          "output_type": "execute_result",
          "execution_count": 136,
          "data": {
            "text/plain": "RandomForestRegressor(bootstrap=True, criterion='mse', max_depth=None,\n           max_features='auto', max_leaf_nodes=None,\n           min_impurity_decrease=0.0, min_impurity_split=None,\n           min_samples_leaf=1, min_samples_split=2,\n           min_weight_fraction_leaf=0.0, n_estimators=10, n_jobs=None,\n           oob_score=False, random_state=None, verbose=0, warm_start=False)"
          },
          "metadata": {}
        }
      ]
    },
    {
      "metadata": {
        "_uuid": "d46099a6ecaeae20e31766870c64b2de6b735cfa"
      },
      "cell_type": "markdown",
      "source": "### Validation"
    },
    {
      "metadata": {
        "_uuid": "1870b55d754fcf1b2a15914964f9c06cef69cf52",
        "trusted": true
      },
      "cell_type": "code",
      "source": "from sklearn.model_selection import cross_val_score\n\ncv_scores = cross_val_score(m1, X_train, Y_train, cv=5, scoring='neg_mean_squared_log_error')\ncv_scores",
      "execution_count": 137,
      "outputs": [
        {
          "output_type": "execute_result",
          "execution_count": 137,
          "data": {
            "text/plain": "array([-0.29872012, -0.30242558, -0.30291835, -0.3007131 , -0.30203234])"
          },
          "metadata": {}
        }
      ]
    },
    {
      "metadata": {
        "_uuid": "fc168988e77db69751ce275ed6409ea7f3787ce0"
      },
      "cell_type": "markdown",
      "source": "### Prediction"
    },
    {
      "metadata": {
        "_uuid": "4c3c10afec17433122e742c8114eb1cd795caf3e",
        "trusted": true
      },
      "cell_type": "code",
      "source": "predictions = m1.predict(X_test)\npredictions[:10]",
      "execution_count": 138,
      "outputs": [
        {
          "output_type": "execute_result",
          "execution_count": 138,
          "data": {
            "text/plain": "array([ 850.9,  695.8,  369.6,  923.4,  506.3,  927.4, 1209.9, 9358.5,\n       1999.7,  511.2])"
          },
          "metadata": {}
        }
      ]
    },
    {
      "metadata": {
        "_uuid": "133ead628b793d6e494bb6f5f850d9672afe2838"
      },
      "cell_type": "markdown",
      "source": "### Submission"
    },
    {
      "metadata": {
        "_uuid": "10b392eb4ce5aee20d94fed35997ca0ef7adfd2a",
        "trusted": true
      },
      "cell_type": "code",
      "source": "submission = pd.DataFrame({'id': df_test.index, 'trip_duration': predictions})\nsubmission.to_csv('submission.csv', index=False)\n\nsubmission.head()",
      "execution_count": 139,
      "outputs": [
        {
          "output_type": "execute_result",
          "execution_count": 139,
          "data": {
            "text/plain": "          id  trip_duration\n0  id3004672          850.9\n1  id3505355          695.8\n2  id1217141          369.6\n3  id2150126          923.4\n4  id1598245          506.3",
            "text/html": "<div>\n<style scoped>\n    .dataframe tbody tr th:only-of-type {\n        vertical-align: middle;\n    }\n\n    .dataframe tbody tr th {\n        vertical-align: top;\n    }\n\n    .dataframe thead th {\n        text-align: right;\n    }\n</style>\n<table border=\"1\" class=\"dataframe\">\n  <thead>\n    <tr style=\"text-align: right;\">\n      <th></th>\n      <th>id</th>\n      <th>trip_duration</th>\n    </tr>\n  </thead>\n  <tbody>\n    <tr>\n      <th>0</th>\n      <td>id3004672</td>\n      <td>850.9</td>\n    </tr>\n    <tr>\n      <th>1</th>\n      <td>id3505355</td>\n      <td>695.8</td>\n    </tr>\n    <tr>\n      <th>2</th>\n      <td>id1217141</td>\n      <td>369.6</td>\n    </tr>\n    <tr>\n      <th>3</th>\n      <td>id2150126</td>\n      <td>923.4</td>\n    </tr>\n    <tr>\n      <th>4</th>\n      <td>id1598245</td>\n      <td>506.3</td>\n    </tr>\n  </tbody>\n</table>\n</div>"
          },
          "metadata": {}
        }
      ]
    },
    {
      "metadata": {
        "trusted": true,
        "_uuid": "d5f6f201110fbe6d7d9728552421a3e2b8c871c2"
      },
      "cell_type": "code",
      "source": "",
      "execution_count": null,
      "outputs": []
    }
  ],
  "metadata": {
    "kernelspec": {
      "display_name": "Python 3",
      "language": "python",
      "name": "python3"
    },
    "language_info": {
      "name": "python",
      "version": "3.6.6",
      "mimetype": "text/x-python",
      "codemirror_mode": {
        "name": "ipython",
        "version": 3
      },
      "pygments_lexer": "ipython3",
      "nbconvert_exporter": "python",
      "file_extension": ".py"
    }
  },
  "nbformat": 4,
  "nbformat_minor": 1
}
